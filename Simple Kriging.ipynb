{
 "cells": [
  {
   "cell_type": "markdown",
   "metadata": {},
   "source": [
    "## SIMPLE KRIGING\n"
   ]
  },
  {
   "cell_type": "code",
   "execution_count": 2,
   "metadata": {},
   "outputs": [],
   "source": [
    "import numpy as np\n",
    "import matplotlib.pyplot as plt\n",
    "import pandas as pd\n",
    "import scipy.linalg as LA\n",
    "from scipy.spatial.distance import pdist,squareform\n",
    "from PIL import Image"
   ]
  },
  {
   "cell_type": "markdown",
   "metadata": {},
   "source": [
    "## DATA"
   ]
  },
  {
   "cell_type": "code",
   "execution_count": 3,
   "metadata": {},
   "outputs": [],
   "source": [
    "Data = np.array(([60,80,22.45],\n",
    "                 [25,50,25.3],\n",
    "                 [80,10,24.74],\n",
    "                 [72,72,25.89],\n",
    "                 [21,78,25.67],\n",
    "                 [72,72,25.89],\n",
    "                 [61,98,26],\n",
    "                 [21,71,24.01],\n",
    "                 [10,28,19.56],\n",
    "                 [76,35,23.2],\n",
    "                 [23,13,26.78],\n",
    "                 [50,23,25.89],\n",
    "                 [60,34,26.65],\n",
    "                 [24,23,26.89],\n",
    "                 [89,54,24.56],\n",
    "                 [35,84,21],\n",
    "                 [34,65,18.78],\n",
    "                 [80,23,25.6],\n",
    "                 [14,97,23],\n",
    "                 [87,23,23.49],\n",
    "                 [24,36,24.45],\n",
    "                 [52,45,24.78],\n",
    "                 [89,56,27.56],\n",
    "                 [15,27,25.89],\n",
    "                \n",
    "                ))  # Example: [x-cord, y-cord, temperature value] '''\n",
    "x = []\n",
    "y = []\n",
    "Temp = []\n",
    "\n",
    "for i in range(len(Data)):\n",
    "    x.append(Data[i][0])\n",
    "    y.append(Data[i][1])\n",
    "    Temp.append(Data[i][2])\n",
    "   \n"
   ]
  },
  {
   "cell_type": "code",
   "execution_count": 4,
   "metadata": {},
   "outputs": [
    {
     "data": {
      "image/png": "[encoded data removed]",
      "text/plain": [
       "<Figure size 432x288 with 1 Axes>"
      ]
     },
     "metadata": {
      "needs_background": "light"
     },
     "output_type": "display_data"
    }
   ],
   "source": [
    "fig, ax = plt.subplots()\n",
    "plt.scatter(x,y)\n",
    "ax.set_aspect(1)\n",
    "plt.xlim(0,100)\n",
    "plt.ylim(0,100)\n",
    "plt.xlabel('x-coordinate')\n",
    "plt.ylabel('y-coordinate')\n",
    "plt.show()\n"
   ]
  },
  {
   "cell_type": "markdown",
   "metadata": {},
   "source": [
    "## MEAN AND RESIDUAL MATRIX"
   ]
  },
  {
   "cell_type": "code",
   "execution_count": 5,
   "metadata": {},
   "outputs": [],
   "source": [
    "def Mean_Residual(data):\n",
    "    mean = np.mean(data[:,2])\n",
    "    residue = data[:,2] - mean\n",
    "    return mean,residue"
   ]
  },
  {
   "cell_type": "markdown",
   "metadata": {},
   "source": [
    "## DISTANCE MATRIX"
   ]
  },
  {
   "cell_type": "code",
   "execution_count": 6,
   "metadata": {},
   "outputs": [],
   "source": [
    "def distance(data,num = 0,sample = [0,0]):  # here num= 0 is meant for to determin the distance between the sample points\n",
    "                                        # num = 1 is meant to determine the distance between the required point with other points in the sample space\n",
    "    d = np.array((data))\n",
    "    if (num == 0):\n",
    "        distancematrix = squareform(pdist(d[:,:-1]))\n",
    "        return distancematrix\n",
    "    \n",
    "    if (num == 1):\n",
    "        dist = []\n",
    "        for i in range(len(d)):\n",
    "            dist.append(np.sqrt((d[i,0] - sample[0])**2 + (d[i,1] - sample[1])**2))\n",
    "        return  dist   \n",
    "    \n",
    "    \n"
   ]
  },
  {
   "cell_type": "markdown",
   "metadata": {},
   "source": [
    "## SEMIVARIOGRAM"
   ]
  },
  {
   "cell_type": "code",
   "execution_count": 7,
   "metadata": {},
   "outputs": [],
   "source": [
    "def Vsinglelag (data,lag,tolerance):\n",
    "    dist = distance(data,0)\n",
    "    \n",
    "    semivariogram = []\n",
    "    for i in range(dist.shape[0]):\n",
    "        for j in range(i+1,dist.shape[1]):\n",
    "            if ((dist[i,j] <= lag + tolerance)):\n",
    "                value = (data[i][2] - data[j][2])**2\n",
    "                semivariogram.append(value)\n",
    "    result = 0.5*(np.sum(semivariogram))/len(semivariogram)\n",
    "    return result\n",
    "\n",
    "def Vmultiplelag (data,lags,tolerance):\n",
    "    semivar = []\n",
    "    for i in range(0,lags,tolerance):\n",
    "        value = Vsinglelag(data,i,tolerance)\n",
    "        if(np.isnan(value)):\n",
    "            continue;\n",
    "        else:\n",
    "            value1 = (i,value)\n",
    "            semivar.append(value1)\n",
    "    semivar = np.array((semivar)).T\n",
    "    return semivar\n"
   ]
  },
  {
   "cell_type": "code",
   "execution_count": 8,
   "metadata": {},
   "outputs": [
    {
     "data": {
      "image/png": "[encoded data removed]",
      "text/plain": [
       "<Figure size 432x288 with 1 Axes>"
      ]
     },
     "metadata": {
      "needs_background": "light"
     },
     "output_type": "display_data"
    }
   ],
   "source": [
    "x = Vmultiplelag(Data,100,5)\n",
    "c = x[1]/max(x[1])\n",
    "\n",
    "plt.plot(x[0],x[1] * 0.1,'.-')\n",
    "\n",
    "plt.xlabel('lag Distance')\n",
    "plt.ylabel('semivariance')\n",
    "plt.title('Semivariogram')\n",
    "plt.show()\n",
    "\n"
   ]
  },
  {
   "cell_type": "markdown",
   "metadata": {},
   "source": [
    "## SILL"
   ]
  },
  {
   "cell_type": "code",
   "execution_count": 9,
   "metadata": {},
   "outputs": [
    {
     "name": "stdout",
     "output_type": "stream",
     "text": [
      "0.48754442708333345\n"
     ]
    }
   ],
   "source": [
    "def sill(data):\n",
    "    variance = np.var(data[:,2]) * 0.1\n",
    "    return variance;\n",
    "    \n",
    "a = sill(Data)\n",
    "print(a)"
   ]
  },
  {
   "cell_type": "markdown",
   "metadata": {},
   "source": [
    "## RANGE"
   ]
  },
  {
   "cell_type": "code",
   "execution_count": 10,
   "metadata": {},
   "outputs": [],
   "source": [
    "def Range(data, lags, tolerance):\n",
    "    sill = sill(data)\n",
    "    q = Vmultiplelag(data,lags,tolerance)\n",
    "    for i in range(len(lags)):\n",
    "        if sill <= q[1][i]:\n",
    "            Range = q[0][i]\n",
    "            break;\n",
    "        else:\n",
    "            continue\n",
    "    return Range"
   ]
  },
  {
   "cell_type": "markdown",
   "metadata": {},
   "source": [
    "## VARIOGRAM MODELING SPHERICAL"
   ]
  },
  {
   "cell_type": "code",
   "execution_count": 11,
   "metadata": {},
   "outputs": [],
   "source": [
    "def spherical(h,a,sill):\n",
    "    if type(h) == np.float64:    \n",
    "        if h<=a:\n",
    "            nugget = 0\n",
    "            sm = nugget + (sill - nugget)*(1.5*(h/a) - 0.5*((h/a)**3))\n",
    "            return sm\n",
    "        else:\n",
    "            sm = nugget\n",
    "            return sm"
   ]
  },
  {
   "cell_type": "markdown",
   "metadata": {},
   "source": [
    "## VARIOGRAM MATRIX"
   ]
  },
  {
   "cell_type": "code",
   "execution_count": 12,
   "metadata": {},
   "outputs": [],
   "source": [
    "def Variogram_Mat(data,sill,Range,sample = [0,0],num = 0):\n",
    "        mat = []\n",
    "        mat1 = []   \n",
    "        if num == 0:\n",
    "            dist = distance(data,num)\n",
    "            for i in range(dist.shape[0]):\n",
    "                for j in range(dist.shape[0]):\n",
    "                    mat.append(dist[i,j])\n",
    "            for i in range (len(mat)):\n",
    "                 mat1.append(spherical(mat[i],Range,sill))\n",
    "            mat1 = np.reshape(mat1, (-1,dist.shape[0]))\n",
    "            return mat1\n",
    "    \n",
    "        if num == 1:\n",
    "            dist1 = distance(data,num,sample)\n",
    "            for i in range (len(dist1)):\n",
    "                mat.append(spherical(dist1[i],Range,sill))\n",
    "            mat1 = np.reshape(mat, (len(dist1),1))\n",
    "            return mat1\n",
    "    "
   ]
  },
  {
   "cell_type": "code",
   "execution_count": 13,
   "metadata": {},
   "outputs": [
    {
     "name": "stdout",
     "output_type": "stream",
     "text": [
      "[[0.07714611]\n",
      " [0.25454898]\n",
      " [0.30133358]\n",
      " [0.06455951]\n",
      " [0.22797777]\n",
      " [0.06455951]\n",
      " [0.08087084]\n",
      " [0.23373799]\n",
      " [0.34930109]\n",
      " [0.20606608]\n",
      " [0.35719163]\n",
      " [0.27437759]\n",
      " [0.22129485]\n",
      " [0.32625195]\n",
      " [0.13851666]\n",
      " [0.1712316 ]\n",
      " [0.1950103 ]\n",
      " [0.25223566]\n",
      " [0.25507945]\n",
      " [0.25451948]\n",
      " [0.29103517]\n",
      " [0.19579984]\n",
      " [0.1310478 ]\n",
      " [0.3382444 ]]\n"
     ]
    }
   ],
   "source": [
    "sample = [78,87]\n",
    "k = Variogram_Mat(Data,0.8,300,sample,1)\n",
    "print(k)"
   ]
  },
  {
   "cell_type": "markdown",
   "metadata": {},
   "source": [
    "## COVARIANCE MATRIX"
   ]
  },
  {
   "cell_type": "code",
   "execution_count": 14,
   "metadata": {},
   "outputs": [],
   "source": [
    "def Covariance_Matrix(data,sill,Range,sample = [0,0] ,num = 0):\n",
    "    if num == 0:\n",
    "        vario = Variogram_Mat(data,sill,Range,sample,0)\n",
    "        cov = sill - vario\n",
    "        return cov\n",
    "    if num == 1:\n",
    "        vario = Variogram_Mat(data,sill,Range,sample,1)\n",
    "        cov1 = sill - vario\n",
    "        return cov1"
   ]
  },
  {
   "cell_type": "markdown",
   "metadata": {},
   "source": [
    "## SIMPLE KRIGING"
   ]
  },
  {
   "cell_type": "code",
   "execution_count": 15,
   "metadata": {},
   "outputs": [],
   "source": [
    "def SimpleKriging(data,sample,sill,Range):\n",
    "    weights = list()\n",
    "    k2 = 0\n",
    "   \n",
    "    \n",
    "    cov_mat = Covariance_Matrix(data,sill,Range,num = 0)\n",
    "    invcov = np.linalg.inv(cov_mat)\n",
    "    \n",
    "    covsample_mat = Covariance_Matrix(data,sill,Range,sample,num = 1)\n",
    "\n",
    "    weightmat = invcov * np.matrix.transpose(covsample_mat)\n",
    "    weightmat = np.array(weightmat)\n",
    "    \n",
    "    for i in range(len(weightmat)):\n",
    "        weights.append(np.sum(weightmat[i,:]))\n",
    "    \n",
    "    print('Weight Matrix :',weights)\n",
    "    print('Sum of weights is closer to one :',np.sum(weights))\n",
    "    \n",
    "    k1,residue = Mean_Residual(data)\n",
    "    \n",
    "    for i in range(len(residue)):\n",
    "        k1 = k1 + (weights[i] * residue[i])\n",
    "        k2 = k2 + (weights[i] * covsample_mat[i])\n",
    "        \n",
    "    k2 = sill - k2\n",
    "    \n",
    "    print('Kriging Estimate is : ',k1)\n",
    "    print('Kriging Variance is : ',k2)"
   ]
  },
  {
   "cell_type": "code",
   "execution_count": 16,
   "metadata": {},
   "outputs": [
    {
     "name": "stdout",
     "output_type": "stream",
     "text": [
      "Weight Matrix : [0.2845774089523374, 0.03807014835983846, -0.23893698946093211, -2.0, -0.0014053248211262082, 0.0, -0.032098622141572886, -0.0034043214450223402, 0.0012047921820386165, 0.3390533777584235, -0.0020956419809978755, -0.039762374715292204, 0.11892047640385606, -0.0044515240621931795, 0.20331852341164947, 0.002971407851713792, 0.0190995436795669, -0.029874184778788226, -0.0019913905176673907, -0.014573138865545454, -0.00924136680758103, 0.1858317305899515, 0.08909483051002809, 0.0009643464331272611]\n",
      "Sum of weights is closer to one : -1.0947282934641875\n",
      "Kriging Estimate is :  21.006352692869175\n",
      "Kriging Variance is :  [1.55397136]\n"
     ]
    }
   ],
   "source": [
    "sample = [73,50]\n",
    "SimpleKriging(Data,sample,0.8,300)"
   ]
  },
  {
   "cell_type": "markdown",
   "metadata": {},
   "source": [
    "## THERMAL SPATIAL IMAGES"
   ]
  },
  {
   "cell_type": "code",
   "execution_count": 17,
   "metadata": {},
   "outputs": [
    {
     "name": "stderr",
     "output_type": "stream",
     "text": [
      "C:\\Users\\Eeshwar\\Anaconda3\\envs\\tensorflow-sessions\\lib\\site-packages\\ipykernel_launcher.py:29: LinAlgWarning: Ill-conditioned matrix (rcond=1.91821e-34): result may not be accurate.\n"
     ]
    }
   ],
   "source": [
    "def Thermal_image(data,variogram):\n",
    "    t = (100,100,3)\n",
    "    thermalImage = np.zeros(t,dtype =np.uint8)\n",
    "    grid = np.zeros((100,100),dtype='float32')\n",
    "    \n",
    "    x = data[:,0]\n",
    "    y = data[:,1]\n",
    "    value = data[:,2]\n",
    "    \n",
    "    distance = np.zeros((x.shape[0],x.shape[0]))\n",
    "    P = np.zeros((x.shape[0],x.shape[0]))\n",
    "    \n",
    "    for i in range (x.shape[0] - 1):\n",
    "        distance[i,i:] = np.sqrt((x[i:]-x[i])**2+(y[i:]-y[i])**2)\n",
    "        \n",
    "    for i in range(x.shape[0]):\n",
    "        for j in range(x.shape[0]):\n",
    "            if distance[i,j]!=0:\n",
    "                amp = np.sqrt((variogram[1])**2 +(variogram[0])**2)\n",
    "                P[i,j]=value[:].var()*(1-np.e**(-3*distance[i,j]/amp))\n",
    "    P = P + P.T  \n",
    "    \n",
    "    for i in range(grid.shape[0]):\n",
    "        for j in range(grid.shape[1]):\n",
    "            \n",
    "            dist = np.sqrt((i-x[:])**2+(j-y[:])**2)\n",
    "            amp = np.sqrt((variogram[1])**2 +(variogram[0])**2)\n",
    "            Q = value[:].var()*(1-np.e**(-3*dist[:]/amp))\n",
    "            weightmat = LA.solve(P,Q)\n",
    "            grid[i,j] = np.sum(weightmat*(value[:]-value[:].mean())) + value[:].mean()\n",
    "            \n",
    "            if (grid[i][j] >= 0 and grid[i][j] < 4):\n",
    "                thermalImage[i,j] = [10,50,120]\n",
    "                \n",
    "            elif (grid[i][j] >= 4 and grid[i][j] < 8):\n",
    "                thermalImage[i,j] = [15,75,165]\n",
    "            \n",
    "            elif (grid[i][j] >= 8 and grid[i][j] < 12):\n",
    "                 thermalImage[i,j] = [30,110,200]\n",
    "            \n",
    "            elif (grid[i][j] >= 12 and grid[i][j] < 16):\n",
    "                 thermalImage[i,j] = [60,160,240]\n",
    "                    \n",
    "            elif (grid[i][j] >= 16 and grid[i][j] < 20):\n",
    "                 thermalImage[i,j] = [80,180,250]\n",
    "                    \n",
    "            elif (grid[i][j] >= 20 and grid[i][j] < 21):\n",
    "                 thermalImage[i,j] = [160,240,255]\n",
    "            \n",
    "            elif (grid[i][j] >= 21 and grid[i][j] < 22):\n",
    "                 thermalImage[i,j] = [200,250,255]\n",
    "                    \n",
    "            elif (grid[i][j] >= 22 and grid[i][j] < 23):\n",
    "                 thermalImage[i,j] = [230,255,255]\n",
    "                    \n",
    "            elif (grid[i][j] >= 23 and grid[i][j] < 24):\n",
    "                 thermalImage[i,j] = [255,250,220]\n",
    "                    \n",
    "            elif (grid[i][j] >= 24 and grid[i][j] < 25):\n",
    "                 thermalImage[i,j] = [255,232,120]\n",
    "                    \n",
    "            elif (grid[i][j] >= 25 and grid[i][j] < 26):\n",
    "                 thermalImage[i,j] = [255,192,60]\n",
    "                    \n",
    "            elif (grid[i][j] >= 26 and grid[i][j] < 27):\n",
    "                 thermalImage[i,j] = [255,160,0]\n",
    "                    \n",
    "            elif (grid[i][j] >= 27 and grid[i][j] < 28):\n",
    "                 thermalImage[i,j] = [255,96,0]\n",
    "                    \n",
    "            elif (grid[i][j] >= 28 and grid[i][j] < 29):\n",
    "                 thermalImage[i,j] = [255,50,0]\n",
    "                    \n",
    "            elif (grid[i][j] >= 29 and grid[i][j] < 30):\n",
    "                 thermalImage[i,j] = [255,20,0]\n",
    "                    \n",
    "            elif (grid[i][j] >= 30 and grid[i][j] < 31):\n",
    "                 thermalImage[i,j] = [192,0,0]\n",
    "                    \n",
    "            elif (grid[i][j] >= 31):\n",
    "                 thermalImage[i,j] = [165,0,0]\n",
    "                    \n",
    "    i = Image.fromarray(thermalImage,\"RGB\")\n",
    "    \n",
    "    i.show()\n",
    "    \n",
    "Thermal_image(Data,(50,30));   \n",
    "    "
   ]
  }
 ],
 "metadata": {
  "kernelspec": {
   "display_name": "Python 3",
   "language": "python",
   "name": "python3"
  },
  "language_info": {
   "codemirror_mode": {
    "name": "ipython",
    "version": 3
   },
   "file_extension": ".py",
   "mimetype": "text/x-python",
   "name": "python",
   "nbconvert_exporter": "python",
   "pygments_lexer": "ipython3",
   "version": "3.6.9"
  }
 },
 "nbformat": 4,
 "nbformat_minor": 2
}
